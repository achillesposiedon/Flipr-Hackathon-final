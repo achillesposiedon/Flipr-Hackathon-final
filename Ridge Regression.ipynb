{
 "cells": [
  {
   "cell_type": "code",
   "execution_count": 1,
   "metadata": {},
   "outputs": [],
   "source": [
    "import pandas as pd\n",
    "import numpy as np\n",
    "\n",
    "\n",
    "trmean=pd.read_csv('/home/aaftab/Github/Flipr-Hackathon/Mean-Filled.csv')\n",
    "tstdt=pd.read_csv('/home/aaftab/Github/Flipr-Hackathon/Mean-Filled-test.csv')"
   ]
  },
  {
   "cell_type": "code",
   "execution_count": 2,
   "metadata": {},
   "outputs": [],
   "source": [
    "features=trmean.copy()\n",
    "features.drop('Infect_Prob',axis=1,inplace=True)\n",
    "results=trmean['Infect_Prob']\n",
    "testfeatures=tstdt.copy()\n",
    "\n",
    "from sklearn import preprocessing\n",
    "standard= preprocessing.StandardScaler()\n",
    "\n",
    "features = standard.fit_transform(features)\n",
    "testfeatures=standard.fit_transform(testfeatures)\n",
    "\n",
    "features=pd.DataFrame(features)\n",
    "testfeatures=pd.DataFrame(testfeatures)"
   ]
  },
  {
   "cell_type": "code",
   "execution_count": 3,
   "metadata": {},
   "outputs": [
    {
     "name": "stdout",
     "output_type": "stream",
     "text": [
      "[ True False  True  True False False  True False  True  True False False\n",
      " False False False False  True False  True  True  True False  True  True\n",
      " False False False False False False False  True False False False False\n",
      "  True  True  True False False False False False  True  True False  True\n",
      "  True False False False False]\n",
      "[ 1 22  1  1  7 18  1 19  1  1  6 13  3 20  9 30  1 31  1  1  1  4  1  1\n",
      " 28 12 29 23 32 17 26  1  5 33 16 11  1  1  1 10  2 14 15  8  1  1 21  1\n",
      "  1 25 34 24 27]\n",
      "8.934142684086439Training error\n",
      "8.934142684086439Testing Error\n",
      "score 0.2873329543788796\n",
      "score 0.28368453447577113\n"
     ]
    }
   ],
   "source": [
    "#Ridge Regression\n",
    "from sklearn import linear_model\n",
    "from sklearn.feature_selection import RFE\n",
    "\n",
    "rid=linear_model.Ridge(alpha=0.5)\n",
    "rid2=linear_model.Ridge(alpha=0.5)\n",
    "\n",
    "modelrid=rid.fit(features,results)\n",
    "\n",
    "rfe = RFE(rid, 20)\n",
    "rfe = rfe.fit(features,results)\n",
    "print(rfe.support_)\n",
    "print(rfe.ranking_)\n",
    "\n",
    "\n",
    "from sklearn.model_selection import train_test_split\n",
    "X_train, X_test, y_train, y_test = train_test_split(features, results, test_size=0.3, random_state=0)\n",
    "modeleval=rid2.fit(X_train,y_train)\n",
    "\n",
    "y_pred = modeleval.predict(X_test)\n",
    "y_pred2=modeleval.predict(X_train)\n",
    "\n",
    "import math\n",
    "from math import sqrt\n",
    "from sklearn.metrics import mean_squared_error\n",
    "\n",
    "mse1=mean_squared_error(y_train, y_pred2)\n",
    "rmse1=sqrt(mse1)\n",
    "print(str(rmse1)+'Training error')\n",
    "mse2=mean_squared_error(y_test, y_pred)\n",
    "rmse2=sqrt(mse1)\n",
    "print(str(rmse2)+'Testing Error')\n",
    "\n",
    "print ('score ' + str(modeleval.score(X_train, y_train)))\n",
    "print ('score '+str(modeleval.score(X_test, y_test)))\n",
    "        \n",
    "predictions = modelrid.predict(testfeatures)\n",
    "pred=pd.DataFrame(predictions)\n",
    "        \n",
    "pred.to_csv('RidgeRegressionPredictions.csv')"
   ]
  },
  {
   "cell_type": "code",
   "execution_count": 5,
   "metadata": {},
   "outputs": [
    {
     "name": "stdout",
     "output_type": "stream",
     "text": [
      "[ True  True  True  True  True  True  True  True  True  True  True  True\n",
      "  True  True  True  True  True  True  True  True]\n",
      "[1 1 1 1 1 1 1 1 1 1 1 1 1 1 1 1 1 1 1 1]\n",
      "8.958015395619503Training error\n",
      "8.958015395619503Testing Error\n",
      "score 0.2835192644003066\n",
      "score 0.28625987492628024\n"
     ]
    }
   ],
   "source": [
    "#after eliminating columns deemed unuseful by recursive feature elimination\n",
    "#Ridge Regression\n",
    "from sklearn import linear_model\n",
    "from sklearn.feature_selection import RFE\n",
    "\n",
    "rid=linear_model.Ridge(alpha=0.5)\n",
    "rid2=linear_model.Ridge(alpha=0.5)\n",
    "\n",
    "#dropping useless features \n",
    "features.drop(features.columns[[1,4,5,7,10,11,12,13,14,15,17,20,25,26,27,28,29,30,31,33,34,35,36,40,41,42,43,44,47,49,50,51,52]],axis=1,inplace=True)\n",
    "testfeatures.drop(testfeatures.columns[[1,4,5,7,10,11,12,13,14,15,17,20,25,26,27,28,29,30,31,33,34,35,36,40,41,42,43,44,47,49,50,51,52]],axis=1,inplace=True)\n",
    "\n",
    "modelrid=rid.fit(features,results)\n",
    "\n",
    "rfe = RFE(rid, 20)\n",
    "rfe = rfe.fit(features,results)\n",
    "print(rfe.support_)\n",
    "print(rfe.ranking_)\n",
    "\n",
    "\n",
    "from sklearn.model_selection import train_test_split\n",
    "X_train, X_test, y_train, y_test = train_test_split(features, results, test_size=0.3, random_state=0)\n",
    "modeleval=rid2.fit(X_train,y_train)\n",
    "\n",
    "y_pred = modeleval.predict(X_test)\n",
    "y_pred2=modeleval.predict(X_train)\n",
    "\n",
    "import math\n",
    "from math import sqrt\n",
    "from sklearn.metrics import mean_squared_error\n",
    "\n",
    "mse1=mean_squared_error(y_train, y_pred2)\n",
    "rmse1=sqrt(mse1)\n",
    "print(str(rmse1)+'Training error')\n",
    "mse2=mean_squared_error(y_test, y_pred)\n",
    "rmse2=sqrt(mse1)\n",
    "print(str(rmse2)+'Testing Error')\n",
    "\n",
    "print ('score ' + str(modeleval.score(X_train, y_train)))\n",
    "print ('score '+str(modeleval.score(X_test, y_test)))\n",
    "        \n",
    "predictions = modelrid.predict(testfeatures)\n",
    "pred=pd.DataFrame(predictions)\n",
    "        \n",
    "pred.to_csv('RidgeRegressionPredictions.csv')"
   ]
  },
  {
   "cell_type": "code",
   "execution_count": null,
   "metadata": {},
   "outputs": [],
   "source": [
    "#An extremely slight increase in accuracy is seen"
   ]
  }
 ],
 "metadata": {
  "kernelspec": {
   "display_name": "Python 3",
   "language": "python",
   "name": "python3"
  },
  "language_info": {
   "codemirror_mode": {
    "name": "ipython",
    "version": 3
   },
   "file_extension": ".py",
   "mimetype": "text/x-python",
   "name": "python",
   "nbconvert_exporter": "python",
   "pygments_lexer": "ipython3",
   "version": "3.7.4"
  }
 },
 "nbformat": 4,
 "nbformat_minor": 2
}
