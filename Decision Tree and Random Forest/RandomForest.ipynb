{
 "cells": [
  {
   "cell_type": "code",
   "execution_count": 1,
   "metadata": {},
   "outputs": [],
   "source": [
    "import pandas as pd\n",
    "import numpy as np\n",
    "\n",
    "trmean=pd.read_csv('/home/aaftab/Github/Flipr-Hackathon/Mean-Filled.csv')\n",
    "tstdt=pd.read_csv('/home/aaftab/Github/Flipr-Hackathon/Mean-Filled-test.csv')"
   ]
  },
  {
   "cell_type": "code",
   "execution_count": 2,
   "metadata": {},
   "outputs": [],
   "source": [
    "features=trmean.copy()\n",
    "features.drop('Infect_Prob',axis=1,inplace=True)\n",
    "results=trmean['Infect_Prob']\n",
    "testfeatures=tstdt.copy()\n",
    "\n",
    "from sklearn import preprocessing\n",
    "standard= preprocessing.StandardScaler()\n",
    "\n",
    "features = standard.fit_transform(features)\n",
    "testfeatures=standard.fit_transform(testfeatures)\n",
    "\n",
    "features=pd.DataFrame(features)\n",
    "testfeatures=pd.DataFrame(testfeatures)"
   ]
  },
  {
   "cell_type": "code",
   "execution_count": 4,
   "metadata": {},
   "outputs": [
    {
     "name": "stdout",
     "output_type": "stream",
     "text": [
      "[ True  True  True  True  True  True  True  True  True  True  True  True\n",
      "  True  True  True  True  True  True  True  True]\n",
      "[1 1 1 1 1 1 1 1 1 1 1 1 1 1 1 1 1 1 1 1]\n",
      "3.2652274728433657 Training error\n",
      "3.2652274728433657 Testing Error\n",
      "score 0.9048063909209298\n",
      "score 0.3241489471086575\n"
     ]
    }
   ],
   "source": [
    "from sklearn.ensemble import RandomForestRegressor\n",
    "from sklearn.feature_selection import RFE\n",
    "\n",
    "lmr = RandomForestRegressor(n_estimators = 100, random_state = 42)\n",
    "lgr2= RandomForestRegressor(n_estimators = 100, random_state = 42)\n",
    "\n",
    "\n",
    "modellr = lmr.fit(features,results)\n",
    "\n",
    "rfe = RFE(lmr, 20)\n",
    "rfe = rfe.fit(features,results)\n",
    "print(rfe.support_)\n",
    "print(rfe.ranking_)\n",
    "\n",
    "\n",
    "from sklearn.model_selection import train_test_split\n",
    "X_train, X_test, y_train, y_test = train_test_split(features, results, test_size=0.3, random_state=0)\n",
    "modelval=lgr2.fit(X_train,y_train)\n",
    "y_pred = modelval.predict(X_test)\n",
    "y_pred2=modelval.predict(X_train)\n",
    "\n",
    "import math\n",
    "from math import sqrt\n",
    "from sklearn.metrics import mean_squared_error\n",
    "\n",
    "mse1=mean_squared_error(y_train, y_pred2)\n",
    "rmse1=sqrt(mse1)\n",
    "print(str(rmse1)+' Training error')\n",
    "mse2=mean_squared_error(y_test, y_pred)\n",
    "rmse2=sqrt(mse1)\n",
    "print(str(rmse2)+' Testing Error')\n",
    "\n",
    "print ('score ' + str(modelval.score(X_train, y_train)))\n",
    "print ('score '+str(modelval.score(X_test, y_test)))\n",
    "        \n",
    "predictions = modellr.predict(testfeatures)\n",
    "pred=pd.DataFrame(predictions)\n",
    "        \n",
    "pred.to_csv('RandomForestPredictions.csv')"
   ]
  },
  {
   "cell_type": "code",
   "execution_count": 3,
   "metadata": {},
   "outputs": [
    {
     "name": "stdout",
     "output_type": "stream",
     "text": [
      "[ True  True  True  True  True  True  True  True  True  True  True  True\n",
      "  True  True  True  True  True  True  True  True]\n",
      "[1 1 1 1 1 1 1 1 1 1 1 1 1 1 1 1 1 1 1 1]\n",
      "3.2652274728433657Training error\n",
      "3.2652274728433657Testing Error\n",
      "score 0.9048063909209298\n",
      "score 0.3241489471086575\n"
     ]
    }
   ],
   "source": [
    "#dropping columns deemed unneccesary by recursive feature elimination\n",
    "testfeatures.drop(testfeatures.columns[[18,19,20,21,22,23,25,26,27,28,29,30,32,33,34,35,36,37,38,39,40,41,42,43,44,45,46,47,48,49,50,51,52]],axis=1,inplace=True)\n",
    "features.drop(features.columns[[18,19,20,21,22,23,25,26,27,28,29,30,32,33,34,35,36,37,38,39,40,41,42,43,44,45,46,47,48,49,50,51,52]],axis=1,inplace=True)\n",
    "\n",
    "from sklearn.ensemble import RandomForestRegressor\n",
    "from sklearn.feature_selection import RFE\n",
    "\n",
    "lmr = RandomForestRegressor(n_estimators = 100, random_state = 42)\n",
    "lgr2= RandomForestRegressor(n_estimators = 100, random_state = 42)\n",
    "\n",
    "modellr = lmr.fit(features,results)\n",
    "    \n",
    "rfe = RFE(lmr, 20)\n",
    "rfe = rfe.fit(features,results)\n",
    "print(rfe.support_)\n",
    "print(rfe.ranking_)\n",
    "\n",
    "\n",
    "from sklearn.model_selection import train_test_split\n",
    "X_train, X_test, y_train, y_test = train_test_split(features, results, test_size=0.3, random_state=0)\n",
    "modelval=lgr2.fit(X_train,y_train)\n",
    "y_pred = modelval.predict(X_test)\n",
    "y_pred2=modelval.predict(X_train)\n",
    "\n",
    "import math\n",
    "from math import sqrt\n",
    "from sklearn.metrics import mean_squared_error\n",
    "\n",
    "mse1=mean_squared_error(y_train, y_pred2)\n",
    "rmse1=sqrt(mse1)\n",
    "print(str(rmse1)+'Training error')\n",
    "mse2=mean_squared_error(y_test, y_pred)\n",
    "rmse2=sqrt(mse1)\n",
    "print(str(rmse2)+'Testing Error')\n",
    "\n",
    "print ('score ' + str(modelval.score(X_train, y_train)))\n",
    "print ('score '+str(modelval.score(X_test, y_test)))\n",
    "        \n",
    "predictions = modellr.predict(testfeatures)\n",
    "pred=pd.DataFrame(predictions)\n",
    "        \n",
    "pred.to_csv('RandomForestRegressionPredictions.csv')"
   ]
  },
  {
   "cell_type": "code",
   "execution_count": null,
   "metadata": {},
   "outputs": [],
   "source": []
  },
  {
   "cell_type": "code",
   "execution_count": 8,
   "metadata": {
    "scrolled": true
   },
   "outputs": [
    {
     "name": "stdout",
     "output_type": "stream",
     "text": [
      "GridSearchCV(cv=5, error_score='raise-deprecating',\n",
      "             estimator=RandomForestRegressor(bootstrap=True, criterion='mse',\n",
      "                                             max_depth=None,\n",
      "                                             max_features='auto',\n",
      "                                             max_leaf_nodes=None,\n",
      "                                             min_impurity_decrease=0.0,\n",
      "                                             min_impurity_split=None,\n",
      "                                             min_samples_leaf=1,\n",
      "                                             min_samples_split=2,\n",
      "                                             min_weight_fraction_leaf=0.0,\n",
      "                                             n_estimators='warn', n_jobs=None,\n",
      "                                             oob_score=False, random_state=None,\n",
      "                                             verbose=0, warm_start=False),\n",
      "             iid='warn', n_jobs=None,\n",
      "             param_grid={'max_features': array([ 5,  6,  7,  8,  9, 10, 11, 12, 13, 14, 15, 16, 17, 18, 19, 20]),\n",
      "                         'min_samples_leaf': [10, 50, 100, 200, 500],\n",
      "                         'n_estimators': [500]},\n",
      "             pre_dispatch='2*n_jobs', refit=True, return_train_score=False,\n",
      "             scoring=None, verbose=0)\n"
     ]
    }
   ],
   "source": [
    "#clearly it is overfitting\n",
    "from sklearn.model_selection import GridSearchCV\n",
    "from sklearn.ensemble import RandomForestRegressor\n",
    "\n",
    "parameters = { 'max_features':np.arange(5,21),'n_estimators':[500],'min_samples_leaf': [10,50,100,200,500]}\n",
    "lmreval = RandomForestRegressor()\n",
    "random_grid = GridSearchCV(lmreval, parameters, cv = 5)\n",
    "print(random_grid)"
   ]
  },
  {
   "cell_type": "code",
   "execution_count": 12,
   "metadata": {},
   "outputs": [
    {
     "ename": "AttributeError",
     "evalue": "'GridSearchCV' object has no attribute 'best_params'",
     "output_type": "error",
     "traceback": [
      "\u001b[0;31m---------------------------------------------------------------------------\u001b[0m",
      "\u001b[0;31mAttributeError\u001b[0m                            Traceback (most recent call last)",
      "\u001b[0;32m<ipython-input-12-cd60a1593d20>\u001b[0m in \u001b[0;36m<module>\u001b[0;34m\u001b[0m\n\u001b[1;32m      1\u001b[0m \u001b[0mrandom_grid\u001b[0m\u001b[0;34m.\u001b[0m\u001b[0mfit\u001b[0m\u001b[0;34m(\u001b[0m\u001b[0mfeatures\u001b[0m\u001b[0;34m,\u001b[0m \u001b[0mresults\u001b[0m\u001b[0;34m)\u001b[0m\u001b[0;34m\u001b[0m\u001b[0;34m\u001b[0m\u001b[0m\n\u001b[1;32m      2\u001b[0m \u001b[0;34m\u001b[0m\u001b[0m\n\u001b[0;32m----> 3\u001b[0;31m \u001b[0mprint\u001b[0m\u001b[0;34m(\u001b[0m\u001b[0mrandom_grid\u001b[0m\u001b[0;34m.\u001b[0m\u001b[0mbest_params\u001b[0m\u001b[0;34m)\u001b[0m\u001b[0;34m\u001b[0m\u001b[0;34m\u001b[0m\u001b[0m\n\u001b[0m",
      "\u001b[0;31mAttributeError\u001b[0m: 'GridSearchCV' object has no attribute 'best_params'"
     ]
    }
   ],
   "source": [
    "\n",
    "\n",
    "random_grid.fit(features, results)\n"
   ]
  },
  {
   "cell_type": "code",
   "execution_count": 13,
   "metadata": {},
   "outputs": [
    {
     "name": "stdout",
     "output_type": "stream",
     "text": [
      "{'max_features': 12, 'min_samples_leaf': 50, 'n_estimators': 500}\n"
     ]
    }
   ],
   "source": [
    "\n",
    "print(random_grid.best_params_)"
   ]
  },
  {
   "cell_type": "code",
   "execution_count": 3,
   "metadata": {},
   "outputs": [
    {
     "name": "stdout",
     "output_type": "stream",
     "text": [
      "[ True  True  True  True  True  True  True  True  True  True  True  True\n",
      "  True  True  True  True  True  True  True  True]\n",
      "[1 1 1 1 1 1 1 1 1 1 1 1 1 1 1 1 1 1 1 1]\n",
      "8.227782465985133Training error\n",
      "8.227782465985133Testing Error\n",
      "score 0.3955693058547005\n",
      "score 0.3369455314370078\n"
     ]
    }
   ],
   "source": [
    "testfeatures.drop(testfeatures.columns[[18,19,20,21,22,23,25,26,27,28,29,30,32,33,34,35,36,37,38,39,40,41,42,43,44,45,46,47,48,49,50,51,52]],axis=1,inplace=True)\n",
    "features.drop(features.columns[[18,19,20,21,22,23,25,26,27,28,29,30,32,33,34,35,36,37,38,39,40,41,42,43,44,45,46,47,48,49,50,51,52]],axis=1,inplace=True)\n",
    "\n",
    "from sklearn.ensemble import RandomForestRegressor\n",
    "from sklearn.feature_selection import RFE\n",
    "\n",
    "lmr = RandomForestRegressor(n_estimators = 50, random_state = 42,max_features=12,min_samples_leaf=50)\n",
    "lgr2= RandomForestRegressor(n_estimators = 50, random_state = 42,max_features=12,min_samples_leaf=50)\n",
    "\n",
    "modellr = lmr.fit(features,results)\n",
    "    \n",
    "rfe = RFE(lmr, 20)\n",
    "rfe = rfe.fit(features,results)\n",
    "print(rfe.support_)\n",
    "print(rfe.ranking_)\n",
    "\n",
    "\n",
    "from sklearn.model_selection import train_test_split\n",
    "X_train, X_test, y_train, y_test = train_test_split(features, results, test_size=0.3, random_state=0)\n",
    "modelval=lgr2.fit(X_train,y_train)\n",
    "y_pred = modelval.predict(X_test)\n",
    "y_pred2=modelval.predict(X_train)\n",
    "\n",
    "import math\n",
    "from math import sqrt\n",
    "from sklearn.metrics import mean_squared_error\n",
    "\n",
    "mse1=mean_squared_error(y_train, y_pred2)\n",
    "rmse1=sqrt(mse1)\n",
    "print(str(rmse1)+'Training error')\n",
    "mse2=mean_squared_error(y_test, y_pred)\n",
    "rmse2=sqrt(mse1)\n",
    "print(str(rmse2)+'Testing Error')\n",
    "\n",
    "print ('score ' + str(modelval.score(X_train, y_train)))\n",
    "print ('score '+str(modelval.score(X_test, y_test)))\n",
    "        \n",
    "predictions = modellr.predict(testfeatures)\n",
    "pred=pd.DataFrame(predictions)\n",
    "        \n",
    "pred.to_csv('RandomForestRegressionPredictions.csv')"
   ]
  },
  {
   "cell_type": "code",
   "execution_count": null,
   "metadata": {},
   "outputs": [],
   "source": []
  }
 ],
 "metadata": {
  "kernelspec": {
   "display_name": "Python 3",
   "language": "python",
   "name": "python3"
  },
  "language_info": {
   "codemirror_mode": {
    "name": "ipython",
    "version": 3
   },
   "file_extension": ".py",
   "mimetype": "text/x-python",
   "name": "python",
   "nbconvert_exporter": "python",
   "pygments_lexer": "ipython3",
   "version": "3.7.4"
  }
 },
 "nbformat": 4,
 "nbformat_minor": 2
}
