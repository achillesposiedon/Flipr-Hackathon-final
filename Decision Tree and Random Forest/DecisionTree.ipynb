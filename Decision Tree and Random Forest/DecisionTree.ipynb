{
 "cells": [
  {
   "cell_type": "code",
   "execution_count": 1,
   "metadata": {},
   "outputs": [],
   "source": [
    "import pandas as pd\n",
    "import numpy as np\n",
    "\n",
    "trmean=pd.read_csv('/home/aaftab/Github/Flipr-Hackathon/Mean-Filled.csv')\n",
    "tstdt=pd.read_csv('/home/aaftab/Github/Flipr-Hackathon/Mean-Filled-test.csv')"
   ]
  },
  {
   "cell_type": "code",
   "execution_count": 2,
   "metadata": {},
   "outputs": [],
   "source": [
    "features=trmean.copy()\n",
    "features.drop('Infect_Prob',axis=1,inplace=True)\n",
    "results=trmean['Infect_Prob']\n",
    "testfeatures=tstdt.copy()\n",
    "\n",
    "from sklearn import preprocessing\n",
    "standard= preprocessing.StandardScaler()\n",
    "\n",
    "features = standard.fit_transform(features)\n",
    "testfeatures=standard.fit_transform(testfeatures)\n",
    "\n",
    "features=pd.DataFrame(features)\n",
    "testfeatures=pd.DataFrame(testfeatures)"
   ]
  },
  {
   "cell_type": "code",
   "execution_count": 3,
   "metadata": {},
   "outputs": [
    {
     "name": "stdout",
     "output_type": "stream",
     "text": [
      "[ True  True  True  True False  True  True  True  True  True  True  True\n",
      "  True  True  True  True  True False False False False False False False\n",
      "  True False False False False False False  True False  True False  True\n",
      " False False False False False False False False False False False False\n",
      " False False False False False]\n",
      "[ 1  1  1  1 19  1  1  1  1  1  1  1  1  1  1  1  1  4 29 27 31 30 32 34\n",
      "  1 21  6  7 17 14 23  1  5  1  2  1 12 20 10 28 22  3  8 26 33 25  9 18\n",
      " 24 11 13 15 16]\n",
      "0.21389628910871744 Training error\n",
      "0.21389628910871744 Testing Error\n",
      "score 0.9995915043756687\n",
      "score -0.43117635764607604\n"
     ]
    }
   ],
   "source": [
    "from sklearn.tree import DecisionTreeRegressor\n",
    "from sklearn.feature_selection import RFE\n",
    "\n",
    "lmr = DecisionTreeRegressor(criterion='mse', max_depth=20)\n",
    "lgr2= DecisionTreeRegressor(criterion='mse', max_depth=20)\n",
    "\n",
    "\n",
    "modellr = lmr.fit(features,results)\n",
    "\n",
    "rfe = RFE(lmr, 20)\n",
    "rfe = rfe.fit(features,results)\n",
    "print(rfe.support_)\n",
    "print(rfe.ranking_)\n",
    "\n",
    "\n",
    "from sklearn.model_selection import train_test_split\n",
    "X_train, X_test, y_train, y_test = train_test_split(features, results, test_size=0.3, random_state=0)\n",
    "modelval=lgr2.fit(X_train,y_train)\n",
    "y_pred = modelval.predict(X_test)\n",
    "y_pred2=modelval.predict(X_train)\n",
    "\n",
    "import math\n",
    "from math import sqrt\n",
    "from sklearn.metrics import mean_squared_error\n",
    "\n",
    "mse1=mean_squared_error(y_train, y_pred2)\n",
    "rmse1=sqrt(mse1)\n",
    "print(str(rmse1)+' Training error')\n",
    "mse2=mean_squared_error(y_test, y_pred)\n",
    "rmse2=sqrt(mse1)\n",
    "print(str(rmse2)+' Testing Error')\n",
    "\n",
    "print ('score ' + str(modelval.score(X_train, y_train)))\n",
    "print ('score '+str(modelval.score(X_test, y_test)))\n",
    "        \n",
    "predictions = modellr.predict(testfeatures)\n",
    "pred=pd.DataFrame(predictions)\n",
    "        \n",
    "pred.to_csv('DecisionTreePredictions.csv')"
   ]
  },
  {
   "cell_type": "code",
   "execution_count": 5,
   "metadata": {},
   "outputs": [
    {
     "name": "stdout",
     "output_type": "stream",
     "text": [
      "[ True  True  True  True  True  True  True  True  True  True  True  True\n",
      "  True  True  True  True  True  True  True]\n",
      "[1 1 1 1 1 1 1 1 1 1 1 1 1 1 1 1 1 1 1]\n",
      "9.762453741558533Training error\n",
      "9.762453741558533Testing Error\n",
      "score 0.14906010212415632\n",
      "score 0.14587986844977863\n"
     ]
    }
   ],
   "source": [
    "#dropping columns deemed unneccesary by recursive feature elimination\n",
    "testfeatures.drop(testfeatures.columns[[2,3,4,19,20,21,22,23,24,25,26,28,29,30,31,32,33,34,35,36,37,38,39,40,41,42,43,44,45,46,48,49,51,52]],axis=1,inplace=True)\n",
    "features.drop(features.columns[[2,3,4,19,20,21,22,23,24,25,26,28,29,30,31,32,33,34,35,36,37,38,39,40,41,42,43,44,45,46,48,49,51,52]],axis=1,inplace=True)\n",
    "\n",
    "\n",
    "from sklearn import linear_model\n",
    "from sklearn.feature_selection import RFE\n",
    "\n",
    "lmr = linear_model.LinearRegression()\n",
    "lgr2= linear_model.LinearRegression()\n",
    "\n",
    "modellr = lmr.fit(features,results)\n",
    "    \n",
    "rfe = RFE(lmr, 20)\n",
    "rfe = rfe.fit(features,results)\n",
    "print(rfe.support_)\n",
    "print(rfe.ranking_)\n",
    "\n",
    "\n",
    "from sklearn.model_selection import train_test_split\n",
    "X_train, X_test, y_train, y_test = train_test_split(features, results, test_size=0.3, random_state=0)\n",
    "modelval=lgr2.fit(X_train,y_train)\n",
    "y_pred = modelval.predict(X_test)\n",
    "y_pred2=modelval.predict(X_train)\n",
    "\n",
    "import math\n",
    "from math import sqrt\n",
    "from sklearn.metrics import mean_squared_error\n",
    "\n",
    "mse1=mean_squared_error(y_train, y_pred2)\n",
    "rmse1=sqrt(mse1)\n",
    "print(str(rmse1)+'Training error')\n",
    "mse2=mean_squared_error(y_test, y_pred)\n",
    "rmse2=sqrt(mse1)\n",
    "print(str(rmse2)+'Testing Error')\n",
    "\n",
    "print ('score ' + str(modelval.score(X_train, y_train)))\n",
    "print ('score '+str(modelval.score(X_test, y_test)))\n",
    "        \n",
    "predictions = modellr.predict(testfeatures)\n",
    "pred=pd.DataFrame(predictions)\n",
    "        \n",
    "pred.to_csv('DecisionTreePredictions.csv')"
   ]
  },
  {
   "cell_type": "code",
   "execution_count": null,
   "metadata": {},
   "outputs": [],
   "source": [
    "#we can see clear extreme increase in training and testing accuracy"
   ]
  }
 ],
 "metadata": {
  "kernelspec": {
   "display_name": "Python 3",
   "language": "python",
   "name": "python3"
  },
  "language_info": {
   "codemirror_mode": {
    "name": "ipython",
    "version": 3
   },
   "file_extension": ".py",
   "mimetype": "text/x-python",
   "name": "python",
   "nbconvert_exporter": "python",
   "pygments_lexer": "ipython3",
   "version": "3.7.4"
  }
 },
 "nbformat": 4,
 "nbformat_minor": 2
}
