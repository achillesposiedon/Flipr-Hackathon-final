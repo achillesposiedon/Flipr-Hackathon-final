{
 "cells": [
  {
   "cell_type": "code",
   "execution_count": 1,
   "metadata": {},
   "outputs": [],
   "source": [
    "import pandas as pd\n",
    "import numpy as np\n",
    "\n",
    "trmean=pd.read_csv('/home/aaftab/Github/Flipr-Hackathon/Mean-Filled.csv')\n",
    "tstdt=pd.read_csv('/home/aaftab/Github/Flipr-Hackathon/Mean-Filled-test.csv')"
   ]
  },
  {
   "cell_type": "code",
   "execution_count": 2,
   "metadata": {},
   "outputs": [],
   "source": [
    "features=trmean.copy()\n",
    "features.drop('Infect_Prob',axis=1,inplace=True)\n",
    "results=trmean['Infect_Prob']\n",
    "testfeatures=tstdt.copy()\n",
    "\n",
    "from sklearn import preprocessing\n",
    "standard= preprocessing.StandardScaler()\n",
    "\n",
    "features = standard.fit_transform(features)\n",
    "testfeatures=standard.fit_transform(testfeatures)\n",
    "\n",
    "features=pd.DataFrame(features)\n",
    "testfeatures=pd.DataFrame(testfeatures)"
   ]
  },
  {
   "cell_type": "code",
   "execution_count": 3,
   "metadata": {},
   "outputs": [
    {
     "name": "stderr",
     "output_type": "stream",
     "text": [
      "/home/aaftab/anaconda3/lib/python3.7/site-packages/sklearn/svm/base.py:193: FutureWarning: The default value of gamma will change from 'auto' to 'scale' in version 0.22 to account better for unscaled features. Set gamma explicitly to 'auto' or 'scale' to avoid this warning.\n",
      "  \"avoid this warning.\", FutureWarning)\n"
     ]
    },
    {
     "name": "stdout",
     "output_type": "stream",
     "text": [
      "8.885867318776258Training error\n",
      "8.885867318776258Testing Error\n",
      "score 0.2950138952367204\n",
      "score 0.261587716329423\n"
     ]
    }
   ],
   "source": [
    "from sklearn import svm\n",
    "from sklearn.feature_selection import RFE\n",
    "\n",
    "lmr = svm.SVR()\n",
    "lgr2= svm.SVR()\n",
    "\n",
    "modellr = lmr.fit(features,results)\n",
    "\n",
    "\n",
    "\n",
    "from sklearn.model_selection import train_test_split\n",
    "X_train, X_test, y_train, y_test = train_test_split(features, results, test_size=0.3, random_state=0)\n",
    "modelval=lgr2.fit(X_train,y_train)\n",
    "y_pred = modelval.predict(X_test)\n",
    "y_pred2=modelval.predict(X_train)\n",
    "\n",
    "import math\n",
    "from math import sqrt\n",
    "from sklearn.metrics import mean_squared_error\n",
    "\n",
    "mse1=mean_squared_error(y_train, y_pred2)\n",
    "rmse1=sqrt(mse1)\n",
    "print(str(rmse1)+'Training error')\n",
    "mse2=mean_squared_error(y_test, y_pred)\n",
    "rmse2=sqrt(mse1)\n",
    "print(str(rmse2)+'Testing Error')\n",
    "\n",
    "print ('score ' + str(modelval.score(X_train, y_train)))\n",
    "print ('score '+str(modelval.score(X_test, y_test)))\n",
    "        \n",
    "predictions = modellr.predict(testfeatures)\n",
    "pred=pd.DataFrame(predictions)\n",
    "        \n",
    "pred.to_csv('SVMPredictions.csv')"
   ]
  },
  {
   "cell_type": "code",
   "execution_count": null,
   "metadata": {},
   "outputs": [],
   "source": []
  },
  {
   "cell_type": "code",
   "execution_count": null,
   "metadata": {},
   "outputs": [],
   "source": []
  }
 ],
 "metadata": {
  "kernelspec": {
   "display_name": "Python 3",
   "language": "python",
   "name": "python3"
  },
  "language_info": {
   "codemirror_mode": {
    "name": "ipython",
    "version": 3
   },
   "file_extension": ".py",
   "mimetype": "text/x-python",
   "name": "python",
   "nbconvert_exporter": "python",
   "pygments_lexer": "ipython3",
   "version": "3.7.4"
  }
 },
 "nbformat": 4,
 "nbformat_minor": 2
}
