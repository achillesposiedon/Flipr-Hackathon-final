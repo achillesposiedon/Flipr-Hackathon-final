{
 "cells": [
  {
   "cell_type": "code",
   "execution_count": 1,
   "metadata": {},
   "outputs": [],
   "source": [
    "import pandas as pd\n",
    "import numpy as np\n",
    "\n",
    "\n",
    "trmean=pd.read_csv('/home/aaftab/Github/Flipr-Hackathon/Mean-Filled.csv')\n",
    "tstdt=pd.read_csv('/home/aaftab/Github/Flipr-Hackathon/Mean-Filled-test.csv')"
   ]
  },
  {
   "cell_type": "code",
   "execution_count": 2,
   "metadata": {},
   "outputs": [],
   "source": [
    "features=trmean.copy()\n",
    "features.drop('Infect_Prob',axis=1,inplace=True)\n",
    "results=trmean['Infect_Prob']\n",
    "testfeatures=tstdt.copy()\n",
    "\n",
    "from sklearn import preprocessing\n",
    "standard= preprocessing.StandardScaler()\n",
    "\n",
    "features = standard.fit_transform(features)\n",
    "testfeatures=standard.fit_transform(testfeatures)\n",
    "\n",
    "features=pd.DataFrame(features)\n",
    "testfeatures=pd.DataFrame(testfeatures)"
   ]
  },
  {
   "cell_type": "code",
   "execution_count": 3,
   "metadata": {},
   "outputs": [
    {
     "name": "stdout",
     "output_type": "stream",
     "text": [
      "[False False  True  True  True  True  True False  True  True  True  True\n",
      "  True False  True False  True False False False False False  True  True\n",
      " False False False False False False False  True  True False False  True\n",
      "  True False False False  True  True False False False False False False\n",
      " False False False False False]\n",
      "[34 33  1  1  1  1  1  2  1  1  1  1  1  5  1  9  1 13 15 17 19 21  1  1\n",
      " 27 29 31 32 30 28 26  1  1  3  4  1  1  6  7  8  1  1 10 11 12 14 16 18\n",
      " 20 22 23 24 25]\n",
      "8.946763147416776Training error\n",
      "8.946763147416776Testing Error\n",
      "score 0.28531809044028544\n",
      "score 0.28534627520501543\n"
     ]
    }
   ],
   "source": [
    "from sklearn import linear_model\n",
    "from sklearn.feature_selection import RFE\n",
    "\n",
    "lmr = linear_model.Lasso(alpha=0.1)\n",
    "lgr2= linear_model.Lasso(alpha=0.1)\n",
    "\n",
    "modellr = lmr.fit(features,results)\n",
    "    \n",
    "rfe = RFE(lmr, 20)\n",
    "rfe = rfe.fit(features,results)\n",
    "print(rfe.support_)\n",
    "print(rfe.ranking_)\n",
    "\n",
    "\n",
    "from sklearn.model_selection import train_test_split\n",
    "X_train, X_test, y_train, y_test = train_test_split(features, results, test_size=0.3, random_state=0)\n",
    "modelval=lgr2.fit(X_train,y_train)\n",
    "y_pred = modelval.predict(X_test)\n",
    "y_pred2=modelval.predict(X_train)\n",
    "\n",
    "import math\n",
    "from math import sqrt\n",
    "from sklearn.metrics import mean_squared_error\n",
    "\n",
    "mse1=mean_squared_error(y_train, y_pred2)\n",
    "rmse1=sqrt(mse1)\n",
    "print(str(rmse1)+'Training error')\n",
    "mse2=mean_squared_error(y_test, y_pred)\n",
    "rmse2=sqrt(mse1)\n",
    "print(str(rmse2)+'Testing Error')\n",
    "\n",
    "print ('score ' + str(modelval.score(X_train, y_train)))\n",
    "print ('score '+str(modelval.score(X_test, y_test)))\n",
    "        \n",
    "predictions = modellr.predict(testfeatures)\n",
    "pred=pd.DataFrame(predictions)\n",
    "        \n",
    "pred.to_csv('LassoRegressionPredictions.csv')"
   ]
  },
  {
   "cell_type": "code",
   "execution_count": 4,
   "metadata": {},
   "outputs": [
    {
     "name": "stdout",
     "output_type": "stream",
     "text": [
      "[ True  True  True  True  True  True  True  True  True  True  True  True\n",
      "  True  True  True  True  True  True  True  True]\n",
      "[1 1 1 1 1 1 1 1 1 1 1 1 1 1 1 1 1 1 1 1]\n",
      "8.942139374735671Training error\n",
      "8.942139374735671Testing Error\n",
      "score 0.2860566084337056\n",
      "score 0.2864477543249616\n"
     ]
    }
   ],
   "source": [
    "#dropping columns deemed unneccesary by recursive feature elimination\n",
    "testfeatures.drop(testfeatures.columns[[0,1,7,13,15,17,18,19,20,21,24,25,26,27,28,29,30,33,34,37,38,39,42,43,44,45,46,47,48,49,50,51,52]],axis=1,inplace=True)\n",
    "features.drop(features.columns[[0,1,7,13,15,17,18,19,20,21,24,25,26,27,28,29,30,33,34,37,38,39,42,43,44,45,46,47,48,49,50,51,52]],axis=1,inplace=True)\n",
    "\n",
    "from sklearn import linear_model\n",
    "from sklearn.feature_selection import RFE\n",
    "\n",
    "lmr = linear_model.LinearRegression()\n",
    "lgr2= linear_model.LinearRegression()\n",
    "\n",
    "modellr = lmr.fit(features,results)\n",
    "    \n",
    "rfe = RFE(lmr, 20)\n",
    "rfe = rfe.fit(features,results)\n",
    "print(rfe.support_)\n",
    "print(rfe.ranking_)\n",
    "\n",
    "\n",
    "from sklearn.model_selection import train_test_split\n",
    "X_train, X_test, y_train, y_test = train_test_split(features, results, test_size=0.3, random_state=0)\n",
    "modelval=lgr2.fit(X_train,y_train)\n",
    "y_pred = modelval.predict(X_test)\n",
    "y_pred2=modelval.predict(X_train)\n",
    "\n",
    "import math\n",
    "from math import sqrt\n",
    "from sklearn.metrics import mean_squared_error\n",
    "\n",
    "mse1=mean_squared_error(y_train, y_pred2)\n",
    "rmse1=sqrt(mse1)\n",
    "print(str(rmse1)+'Training error')\n",
    "mse2=mean_squared_error(y_test, y_pred)\n",
    "rmse2=sqrt(mse1)\n",
    "print(str(rmse2)+'Testing Error')\n",
    "\n",
    "print ('score ' + str(modelval.score(X_train, y_train)))\n",
    "print ('score '+str(modelval.score(X_test, y_test)))\n",
    "        \n",
    "predictions = modellr.predict(testfeatures)\n",
    "pred=pd.DataFrame(predictions)\n",
    "        \n",
    "pred.to_csv('LassoRegressionPredictions.csv')"
   ]
  },
  {
   "cell_type": "code",
   "execution_count": null,
   "metadata": {},
   "outputs": [],
   "source": []
  }
 ],
 "metadata": {
  "kernelspec": {
   "display_name": "Python 3",
   "language": "python",
   "name": "python3"
  },
  "language_info": {
   "codemirror_mode": {
    "name": "ipython",
    "version": 3
   },
   "file_extension": ".py",
   "mimetype": "text/x-python",
   "name": "python",
   "nbconvert_exporter": "python",
   "pygments_lexer": "ipython3",
   "version": "3.7.4"
  }
 },
 "nbformat": 4,
 "nbformat_minor": 2
}
